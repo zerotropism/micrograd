{
 "cells": [
  {
   "cell_type": "markdown",
   "metadata": {},
   "source": [
    "### Refresher on calculus"
   ]
  },
  {
   "cell_type": "code",
   "execution_count": 5,
   "metadata": {},
   "outputs": [],
   "source": [
    "import math\n",
    "import numpy as np\n",
    "import matplotlib.pyplot as plt"
   ]
  },
  {
   "cell_type": "markdown",
   "metadata": {},
   "source": [
    "Let's create a quadratic function to apply on an arrat and plot its corresponding parabola"
   ]
  },
  {
   "cell_type": "code",
   "execution_count": 7,
   "metadata": {},
   "outputs": [
    {
     "data": {
      "text/plain": [
       "[<matplotlib.lines.Line2D at 0x10e05a960>]"
      ]
     },
     "execution_count": 7,
     "metadata": {},
     "output_type": "execute_result"
    },
    {
     "data": {
      "image/png": "[encoded data removed]",
      "text/plain": [
       "<Figure size 640x480 with 1 Axes>"
      ]
     },
     "metadata": {},
     "output_type": "display_data"
    }
   ],
   "source": [
    "def f(x):\n",
    "    return 3*x**2 - 4*x + 5\n",
    "\n",
    "xs = np.arange(-5,5,0.25)\n",
    "ys = f(xs)\n",
    "plt.plot(xs,ys)"
   ]
  },
  {
   "cell_type": "markdown",
   "metadata": {},
   "source": [
    "Let's now evaluate the derivative of this function numerically.<br>\n",
    "The \"intensity' of the slope of the derivated function measures the sensitivity with which the function response to a tiny change in its value."
   ]
  },
  {
   "cell_type": "code",
   "execution_count": null,
   "metadata": {},
   "outputs": [
    {
     "data": {
      "text/plain": [
       "14.00300000000243"
      ]
     },
     "execution_count": 13,
     "metadata": {},
     "output_type": "execute_result"
    }
   ],
   "source": [
    "# we set the tiny change h very small\n",
    "h  = 0.001\n",
    "# and set a point x at 3.0 where f(x) grows wrt x\n",
    "x = 3.0\n",
    "# then compute the derivative at x\n",
    "(f(x+h) - f(x)) / h"
   ]
  },
  {
   "cell_type": "markdown",
   "metadata": {},
   "source": [
    "The derivative of f(x) at x is the slope of the line that passes through (x,f(x)) and (x+h,f(x+h)).<br>\n",
    "Read it as the sensitivity of f(x) to x.<br>\n",
    "Where f(x) increases wrt x, the slope will be positive."
   ]
  },
  {
   "cell_type": "code",
   "execution_count": 14,
   "metadata": {},
   "outputs": [
    {
     "data": {
      "text/plain": [
       "-21.996999999998934"
      ]
     },
     "execution_count": 14,
     "metadata": {},
     "output_type": "execute_result"
    }
   ],
   "source": [
    "# or at -3.0 where f(x) decreases wrt x\n",
    "x = -3.0\n",
    "(f(x+h) - f(x)) / h"
   ]
  },
  {
   "cell_type": "markdown",
   "metadata": {},
   "source": [
    "While where f(x) decreases wrt x, the slope will be negative.<br>\n",
    "And where f(x) stabilizes wrt x, the slope will approach 0:"
   ]
  },
  {
   "cell_type": "code",
   "execution_count": 15,
   "metadata": {},
   "outputs": [
    {
     "data": {
      "text/plain": [
       "0.0029999999995311555"
      ]
     },
     "execution_count": 15,
     "metadata": {},
     "output_type": "execute_result"
    }
   ],
   "source": [
    "x = 2/3\n",
    "(f(x+h) - f(x)) / h"
   ]
  },
  {
   "cell_type": "markdown",
   "metadata": {},
   "source": [
    "More precisely if we want to measure a function sensitivity wrt to a variable we can:"
   ]
  },
  {
   "cell_type": "code",
   "execution_count": 20,
   "metadata": {},
   "outputs": [
    {
     "name": "stdout",
     "output_type": "stream",
     "text": [
      "d1 = 4.0\n",
      "d2 = 3.997\n",
      "slope = -3.0000000000001137\n"
     ]
    }
   ],
   "source": [
    "# set inputs\n",
    "a = 2.0\n",
    "b = -3.0\n",
    "c = 10.0\n",
    "\n",
    "# create function d\n",
    "d1 = a*b+c\n",
    "# bump a by h\n",
    "a += h\n",
    "# create function corresponding to a bump by h\n",
    "d2 = a*b+c\n",
    "\n",
    "# print the slope\n",
    "print('d1 =', d1)\n",
    "print('d2 =', d2)\n",
    "print('slope =', (d2-d1)/h)"
   ]
  },
  {
   "cell_type": "markdown",
   "metadata": {},
   "source": [
    "Slope approx 'b' value as derivating `d = a.b + c` wrt `a` gives `b`."
   ]
  },
  {
   "cell_type": "code",
   "execution_count": null,
   "metadata": {},
   "outputs": [
    {
     "name": "stdout",
     "output_type": "stream",
     "text": [
      "d1 = 4.0\n",
      "d2 = 4.002\n",
      "slope = 1.9999999999997797\n"
     ]
    }
   ],
   "source": [
    "# if we bump b by h now\n",
    "a = 2.0\n",
    "b += h\n",
    "d2 = a*b+c\n",
    "# print the slope\n",
    "print('d1 =', d1)\n",
    "print('d2 =', d2)\n",
    "print('slope =', (d2-d1)/h)"
   ]
  },
  {
   "cell_type": "markdown",
   "metadata": {},
   "source": [
    "Approxing 'a' value as derivating `d = a.b + c` wrt `b` gives `a`."
   ]
  },
  {
   "cell_type": "markdown",
   "metadata": {},
   "source": [
    "### Start to create the main class Value"
   ]
  },
  {
   "cell_type": "code",
   "execution_count": 47,
   "metadata": {},
   "outputs": [],
   "source": [
    "class Value:\n",
    "\n",
    "    # takes single value that it wraps and keeps track of\n",
    "    def __init__(self, data, _children=(), _op=\"\", label=\"\"):\n",
    "        self.data = data\n",
    "        # set for optimization in showing the children of the value for operations\n",
    "        self._prev = set(_children)\n",
    "        self._op = _op\n",
    "        self.label = label\n",
    "\n",
    "    # allows to print the value\n",
    "    def __repr__(self):\n",
    "        return f\"Value(data={self.data})\"\n",
    "\n",
    "    # allows to add two values together\n",
    "    def __add__(self, other):\n",
    "        out = Value(self.data + other.data, (self, other), \"+\")\n",
    "        return out\n",
    "\n",
    "    # allows to multiply two values together\n",
    "    def __mul__(self, other):\n",
    "        out = Value(self.data * other.data, (self, other), \"*\")\n",
    "        return out"
   ]
  },
  {
   "cell_type": "code",
   "execution_count": 55,
   "metadata": {},
   "outputs": [],
   "source": [
    "# instantiate intial values\n",
    "a = Value(2.0, label=\"a\")\n",
    "b = Value(-3.0, label=\"b\")\n",
    "c = Value(10.0, label=\"c\")\n",
    "# compute some more\n",
    "d = a * b + c; d.label = \"d\""
   ]
  },
  {
   "cell_type": "code",
   "execution_count": 49,
   "metadata": {},
   "outputs": [
    {
     "name": "stdout",
     "output_type": "stream",
     "text": [
      "d = Value(data=4.0)\n",
      "d._prev = {Value(data=10.0), Value(data=-6.0)}\n",
      "d._op = +\n",
      "d.label = d\n"
     ]
    }
   ],
   "source": [
    "print('d =', d)\n",
    "print('d._prev =', d._prev)\n",
    "print('d._op =', d._op)\n",
    "print('d.label =', d.label)"
   ]
  },
  {
   "cell_type": "markdown",
   "metadata": {},
   "source": [
    "Add vizualisation tool"
   ]
  },
  {
   "cell_type": "code",
   "execution_count": 50,
   "metadata": {},
   "outputs": [],
   "source": [
    "from graphviz import Digraph\n",
    "\n",
    "\n",
    "def trace(root):\n",
    "    # builds a set of all nodes and edges in a graph\n",
    "    nodes, edges = set(), set()\n",
    "\n",
    "    def build(v):\n",
    "        if v not in nodes:\n",
    "            nodes.add(v)\n",
    "            for child in v._prev:\n",
    "                edges.add((child, v))\n",
    "                build(child)\n",
    "\n",
    "    build(root)\n",
    "    return nodes, edges\n",
    "\n",
    "\n",
    "def draw_dot(root):\n",
    "    dot = Digraph(format=\"svg\", graph_attr={\"rankdir\": \"LR\"})  # LR = left to right\n",
    "\n",
    "    nodes, edges = trace(root)\n",
    "    for n in nodes:\n",
    "        uid = str(id(n))\n",
    "        # for any value in the graph, create a rectangular ('record') node for it\n",
    "        dot.node(\n",
    "            name=uid,\n",
    "            label=\"{ %s | data %.4f}\" % (n.label, n.data),\n",
    "            # label=\"{ %s | data %.4f | grad %.4f }\" % (n.label, n.data, n.grad),\n",
    "            shape=\"record\",\n",
    "        )\n",
    "        if n._op:\n",
    "            # if this value is a result of some operation, create an op node for it\n",
    "            dot.node(name=uid + n._op, label=n._op)\n",
    "            # and connect this node to it\n",
    "            dot.edge(uid + n._op, uid)\n",
    "\n",
    "    for n1, n2 in edges:\n",
    "        # connect n1 to the op node of n2\n",
    "        dot.edge(str(id(n1)), str(id(n2)) + n2._op)\n",
    "\n",
    "    return dot\n"
   ]
  },
  {
   "cell_type": "code",
   "execution_count": 51,
   "metadata": {},
   "outputs": [
    {
     "data": {
      "image/svg+xml": [
       "<?xml version=\"1.0\" encoding=\"UTF-8\" standalone=\"no\"?>\n",
       "<!DOCTYPE svg PUBLIC \"-//W3C//DTD SVG 1.1//EN\"\n",
       " \"http://www.w3.org/Graphics/SVG/1.1/DTD/svg11.dtd\">\n",
       "<!-- Generated by graphviz version 12.2.1 (20241206.2353)\n",
       " -->\n",
       "<!-- Pages: 1 -->\n",
       "<svg width=\"578pt\" height=\"127pt\"\n",
       " viewBox=\"0.00 0.00 578.00 127.00\" xmlns=\"http://www.w3.org/2000/svg\" xmlns:xlink=\"http://www.w3.org/1999/xlink\">\n",
       "<g id=\"graph0\" class=\"graph\" transform=\"scale(1 1) rotate(0) translate(4 123)\">\n",
       "<polygon fill=\"white\" stroke=\"none\" points=\"-4,4 -4,-123 574,-123 574,4 -4,4\"/>\n",
       "<!-- 4532118128 -->\n",
       "<g id=\"node1\" class=\"node\">\n",
       "<title>4532118128</title>\n",
       "<polygon fill=\"none\" stroke=\"black\" points=\"467.5,-54.5 467.5,-90.5 570,-90.5 570,-54.5 467.5,-54.5\"/>\n",
       "<text text-anchor=\"middle\" x=\"478.88\" y=\"-67.7\" font-family=\"Times,serif\" font-size=\"14.00\">d</text>\n",
       "<polyline fill=\"none\" stroke=\"black\" points=\"490.25,-55 490.25,-90.5\"/>\n",
       "<text text-anchor=\"middle\" x=\"530.12\" y=\"-67.7\" font-family=\"Times,serif\" font-size=\"14.00\">data 4.0000</text>\n",
       "</g>\n",
       "<!-- 4532118128+ -->\n",
       "<g id=\"node2\" class=\"node\">\n",
       "<title>4532118128+</title>\n",
       "<ellipse fill=\"none\" stroke=\"black\" cx=\"404.5\" cy=\"-72.5\" rx=\"27\" ry=\"18\"/>\n",
       "<text text-anchor=\"middle\" x=\"404.5\" y=\"-67.45\" font-family=\"Times,serif\" font-size=\"14.00\">+</text>\n",
       "</g>\n",
       "<!-- 4532118128+&#45;&gt;4532118128 -->\n",
       "<g id=\"edge1\" class=\"edge\">\n",
       "<title>4532118128+&#45;&gt;4532118128</title>\n",
       "<path fill=\"none\" stroke=\"black\" d=\"M431.82,-72.5C439.21,-72.5 447.57,-72.5 456.1,-72.5\"/>\n",
       "<polygon fill=\"black\" stroke=\"black\" points=\"455.83,-76 465.83,-72.5 455.83,-69 455.83,-76\"/>\n",
       "</g>\n",
       "<!-- 4530200240 -->\n",
       "<g id=\"node3\" class=\"node\">\n",
       "<title>4530200240</title>\n",
       "<polygon fill=\"none\" stroke=\"black\" points=\"233,-82.5 233,-118.5 341.5,-118.5 341.5,-82.5 233,-82.5\"/>\n",
       "<text text-anchor=\"middle\" x=\"244\" y=\"-95.7\" font-family=\"Times,serif\" font-size=\"14.00\">c</text>\n",
       "<polyline fill=\"none\" stroke=\"black\" points=\"255,-83 255,-118.5\"/>\n",
       "<text text-anchor=\"middle\" x=\"298.25\" y=\"-95.7\" font-family=\"Times,serif\" font-size=\"14.00\">data 10.0000</text>\n",
       "</g>\n",
       "<!-- 4530200240&#45;&gt;4532118128+ -->\n",
       "<g id=\"edge6\" class=\"edge\">\n",
       "<title>4530200240&#45;&gt;4532118128+</title>\n",
       "<path fill=\"none\" stroke=\"black\" d=\"M341.83,-87.48C350.54,-85.37 359.37,-83.22 367.53,-81.24\"/>\n",
       "<polygon fill=\"black\" stroke=\"black\" points=\"368.16,-84.69 377.05,-78.93 366.51,-77.89 368.16,-84.69\"/>\n",
       "</g>\n",
       "<!-- 4530197216 -->\n",
       "<g id=\"node4\" class=\"node\">\n",
       "<title>4530197216</title>\n",
       "<polygon fill=\"none\" stroke=\"black\" points=\"0,-55.5 0,-91.5 107,-91.5 107,-55.5 0,-55.5\"/>\n",
       "<text text-anchor=\"middle\" x=\"11.38\" y=\"-68.7\" font-family=\"Times,serif\" font-size=\"14.00\">b</text>\n",
       "<polyline fill=\"none\" stroke=\"black\" points=\"22.75,-56 22.75,-91.5\"/>\n",
       "<text text-anchor=\"middle\" x=\"64.88\" y=\"-68.7\" font-family=\"Times,serif\" font-size=\"14.00\">data &#45;3.0000</text>\n",
       "</g>\n",
       "<!-- 4530204608* -->\n",
       "<g id=\"node7\" class=\"node\">\n",
       "<title>4530204608*</title>\n",
       "<ellipse fill=\"none\" stroke=\"black\" cx=\"170\" cy=\"-45.5\" rx=\"27\" ry=\"18\"/>\n",
       "<text text-anchor=\"middle\" x=\"170\" y=\"-40.45\" font-family=\"Times,serif\" font-size=\"14.00\">*</text>\n",
       "</g>\n",
       "<!-- 4530197216&#45;&gt;4530204608* -->\n",
       "<g id=\"edge3\" class=\"edge\">\n",
       "<title>4530197216&#45;&gt;4530204608*</title>\n",
       "<path fill=\"none\" stroke=\"black\" d=\"M107.39,-60.57C116.15,-58.42 125.05,-56.25 133.26,-54.24\"/>\n",
       "<polygon fill=\"black\" stroke=\"black\" points=\"133.97,-57.67 142.85,-51.89 132.3,-50.87 133.97,-57.67\"/>\n",
       "</g>\n",
       "<!-- 4530202928 -->\n",
       "<g id=\"node5\" class=\"node\">\n",
       "<title>4530202928</title>\n",
       "<polygon fill=\"none\" stroke=\"black\" points=\"2.62,-0.5 2.62,-36.5 104.38,-36.5 104.38,-0.5 2.62,-0.5\"/>\n",
       "<text text-anchor=\"middle\" x=\"13.62\" y=\"-13.7\" font-family=\"Times,serif\" font-size=\"14.00\">a</text>\n",
       "<polyline fill=\"none\" stroke=\"black\" points=\"24.62,-1 24.62,-36.5\"/>\n",
       "<text text-anchor=\"middle\" x=\"64.5\" y=\"-13.7\" font-family=\"Times,serif\" font-size=\"14.00\">data 2.0000</text>\n",
       "</g>\n",
       "<!-- 4530202928&#45;&gt;4530204608* -->\n",
       "<g id=\"edge5\" class=\"edge\">\n",
       "<title>4530202928&#45;&gt;4530204608*</title>\n",
       "<path fill=\"none\" stroke=\"black\" d=\"M104.72,-30.34C114.16,-32.57 123.86,-34.86 132.78,-36.96\"/>\n",
       "<polygon fill=\"black\" stroke=\"black\" points=\"131.94,-40.36 142.48,-39.25 133.55,-33.54 131.94,-40.36\"/>\n",
       "</g>\n",
       "<!-- 4530204608 -->\n",
       "<g id=\"node6\" class=\"node\">\n",
       "<title>4530204608</title>\n",
       "<polygon fill=\"none\" stroke=\"black\" points=\"235.25,-27.5 235.25,-63.5 339.25,-63.5 339.25,-27.5 235.25,-27.5\"/>\n",
       "<text text-anchor=\"middle\" x=\"245.12\" y=\"-40.7\" font-family=\"Times,serif\" font-size=\"14.00\"> </text>\n",
       "<polyline fill=\"none\" stroke=\"black\" points=\"255,-28 255,-63.5\"/>\n",
       "<text text-anchor=\"middle\" x=\"297.12\" y=\"-40.7\" font-family=\"Times,serif\" font-size=\"14.00\">data &#45;6.0000</text>\n",
       "</g>\n",
       "<!-- 4530204608&#45;&gt;4532118128+ -->\n",
       "<g id=\"edge4\" class=\"edge\">\n",
       "<title>4530204608&#45;&gt;4532118128+</title>\n",
       "<path fill=\"none\" stroke=\"black\" d=\"M339.47,-57.5C348.92,-59.71 358.6,-61.98 367.48,-64.06\"/>\n",
       "<polygon fill=\"black\" stroke=\"black\" points=\"366.59,-67.45 377.13,-66.32 368.19,-60.63 366.59,-67.45\"/>\n",
       "</g>\n",
       "<!-- 4530204608*&#45;&gt;4530204608 -->\n",
       "<g id=\"edge2\" class=\"edge\">\n",
       "<title>4530204608*&#45;&gt;4530204608</title>\n",
       "<path fill=\"none\" stroke=\"black\" d=\"M197.44,-45.5C205.38,-45.5 214.45,-45.5 223.68,-45.5\"/>\n",
       "<polygon fill=\"black\" stroke=\"black\" points=\"223.46,-49 233.46,-45.5 223.46,-42 223.46,-49\"/>\n",
       "</g>\n",
       "</g>\n",
       "</svg>\n"
      ],
      "text/plain": [
       "<graphviz.graphs.Digraph at 0x10e1fadb0>"
      ]
     },
     "execution_count": 51,
     "metadata": {},
     "output_type": "execute_result"
    }
   ],
   "source": [
    "draw_dot(d)"
   ]
  },
  {
   "cell_type": "code",
   "execution_count": 52,
   "metadata": {},
   "outputs": [],
   "source": [
    "# deepen the graph with new values\n",
    "e = a * b; e.label = \"e\"\n",
    "f = e + c; f.label = \"f\"\n",
    "g = Value(-2.0, label=\"g\")\n",
    "L = f * g; L.label = \"L\""
   ]
  },
  {
   "cell_type": "code",
   "execution_count": 53,
   "metadata": {},
   "outputs": [
    {
     "name": "stdout",
     "output_type": "stream",
     "text": [
      "e = Value(data=-6.0)\n",
      "f = Value(data=4.0)\n",
      "g = Value(data=-2.0)\n",
      "L = Value(data=-8.0)\n"
     ]
    }
   ],
   "source": [
    "print(e.label,'=', e)\n",
    "print(f.label,'=', f)\n",
    "print(g.label,'=', g)\n",
    "print(L.label,'=', L)"
   ]
  },
  {
   "cell_type": "code",
   "execution_count": 54,
   "metadata": {},
   "outputs": [
    {
     "data": {
      "image/svg+xml": [
       "<?xml version=\"1.0\" encoding=\"UTF-8\" standalone=\"no\"?>\n",
       "<!DOCTYPE svg PUBLIC \"-//W3C//DTD SVG 1.1//EN\"\n",
       " \"http://www.w3.org/Graphics/SVG/1.1/DTD/svg11.dtd\">\n",
       "<!-- Generated by graphviz version 12.2.1 (20241206.2353)\n",
       " -->\n",
       "<!-- Pages: 1 -->\n",
       "<svg width=\"817pt\" height=\"154pt\"\n",
       " viewBox=\"0.00 0.00 817.00 154.00\" xmlns=\"http://www.w3.org/2000/svg\" xmlns:xlink=\"http://www.w3.org/1999/xlink\">\n",
       "<g id=\"graph0\" class=\"graph\" transform=\"scale(1 1) rotate(0) translate(4 150)\">\n",
       "<polygon fill=\"white\" stroke=\"none\" points=\"-4,4 -4,-150 813,-150 813,4 -4,4\"/>\n",
       "<!-- 4531923104 -->\n",
       "<g id=\"node1\" class=\"node\">\n",
       "<title>4531923104</title>\n",
       "<polygon fill=\"none\" stroke=\"black\" points=\"234.12,-27.5 234.12,-63.5 340.38,-63.5 340.38,-27.5 234.12,-27.5\"/>\n",
       "<text text-anchor=\"middle\" x=\"245.12\" y=\"-40.7\" font-family=\"Times,serif\" font-size=\"14.00\">e</text>\n",
       "<polyline fill=\"none\" stroke=\"black\" points=\"256.12,-28 256.12,-63.5\"/>\n",
       "<text text-anchor=\"middle\" x=\"298.25\" y=\"-40.7\" font-family=\"Times,serif\" font-size=\"14.00\">data &#45;6.0000</text>\n",
       "</g>\n",
       "<!-- 4531912928+ -->\n",
       "<g id=\"node6\" class=\"node\">\n",
       "<title>4531912928+</title>\n",
       "<ellipse fill=\"none\" stroke=\"black\" cx=\"404.5\" cy=\"-72.5\" rx=\"27\" ry=\"18\"/>\n",
       "<text text-anchor=\"middle\" x=\"404.5\" y=\"-67.45\" font-family=\"Times,serif\" font-size=\"14.00\">+</text>\n",
       "</g>\n",
       "<!-- 4531923104&#45;&gt;4531912928+ -->\n",
       "<g id=\"edge7\" class=\"edge\">\n",
       "<title>4531923104&#45;&gt;4531912928+</title>\n",
       "<path fill=\"none\" stroke=\"black\" d=\"M340.82,-57.81C349.88,-59.94 359.11,-62.1 367.6,-64.09\"/>\n",
       "<polygon fill=\"black\" stroke=\"black\" points=\"366.63,-67.46 377.16,-66.33 368.22,-60.64 366.63,-67.46\"/>\n",
       "</g>\n",
       "<!-- 4531923104* -->\n",
       "<g id=\"node2\" class=\"node\">\n",
       "<title>4531923104*</title>\n",
       "<ellipse fill=\"none\" stroke=\"black\" cx=\"170\" cy=\"-45.5\" rx=\"27\" ry=\"18\"/>\n",
       "<text text-anchor=\"middle\" x=\"170\" y=\"-40.45\" font-family=\"Times,serif\" font-size=\"14.00\">*</text>\n",
       "</g>\n",
       "<!-- 4531923104*&#45;&gt;4531923104 -->\n",
       "<g id=\"edge1\" class=\"edge\">\n",
       "<title>4531923104*&#45;&gt;4531923104</title>\n",
       "<path fill=\"none\" stroke=\"black\" d=\"M197.44,-45.5C205.1,-45.5 213.82,-45.5 222.73,-45.5\"/>\n",
       "<polygon fill=\"black\" stroke=\"black\" points=\"222.53,-49 232.53,-45.5 222.53,-42 222.53,-49\"/>\n",
       "</g>\n",
       "<!-- 4531926704 -->\n",
       "<g id=\"node3\" class=\"node\">\n",
       "<title>4531926704</title>\n",
       "<polygon fill=\"none\" stroke=\"black\" points=\"467.5,-109.5 467.5,-145.5 574.5,-145.5 574.5,-109.5 467.5,-109.5\"/>\n",
       "<text text-anchor=\"middle\" x=\"478.88\" y=\"-122.7\" font-family=\"Times,serif\" font-size=\"14.00\">g</text>\n",
       "<polyline fill=\"none\" stroke=\"black\" points=\"490.25,-110 490.25,-145.5\"/>\n",
       "<text text-anchor=\"middle\" x=\"532.38\" y=\"-122.7\" font-family=\"Times,serif\" font-size=\"14.00\">data &#45;2.0000</text>\n",
       "</g>\n",
       "<!-- 4531926944* -->\n",
       "<g id=\"node10\" class=\"node\">\n",
       "<title>4531926944*</title>\n",
       "<ellipse fill=\"none\" stroke=\"black\" cx=\"637.5\" cy=\"-99.5\" rx=\"27\" ry=\"18\"/>\n",
       "<text text-anchor=\"middle\" x=\"637.5\" y=\"-94.45\" font-family=\"Times,serif\" font-size=\"14.00\">*</text>\n",
       "</g>\n",
       "<!-- 4531926704&#45;&gt;4531926944* -->\n",
       "<g id=\"edge6\" class=\"edge\">\n",
       "<title>4531926704&#45;&gt;4531926944*</title>\n",
       "<path fill=\"none\" stroke=\"black\" d=\"M574.89,-114.57C583.65,-112.42 592.55,-110.25 600.76,-108.24\"/>\n",
       "<polygon fill=\"black\" stroke=\"black\" points=\"601.47,-111.67 610.35,-105.89 599.8,-104.87 601.47,-111.67\"/>\n",
       "</g>\n",
       "<!-- 4530200240 -->\n",
       "<g id=\"node4\" class=\"node\">\n",
       "<title>4530200240</title>\n",
       "<polygon fill=\"none\" stroke=\"black\" points=\"233,-82.5 233,-118.5 341.5,-118.5 341.5,-82.5 233,-82.5\"/>\n",
       "<text text-anchor=\"middle\" x=\"244\" y=\"-95.7\" font-family=\"Times,serif\" font-size=\"14.00\">c</text>\n",
       "<polyline fill=\"none\" stroke=\"black\" points=\"255,-83 255,-118.5\"/>\n",
       "<text text-anchor=\"middle\" x=\"298.25\" y=\"-95.7\" font-family=\"Times,serif\" font-size=\"14.00\">data 10.0000</text>\n",
       "</g>\n",
       "<!-- 4530200240&#45;&gt;4531912928+ -->\n",
       "<g id=\"edge9\" class=\"edge\">\n",
       "<title>4530200240&#45;&gt;4531912928+</title>\n",
       "<path fill=\"none\" stroke=\"black\" d=\"M341.83,-87.48C350.54,-85.37 359.37,-83.22 367.53,-81.24\"/>\n",
       "<polygon fill=\"black\" stroke=\"black\" points=\"368.16,-84.69 377.05,-78.93 366.51,-77.89 368.16,-84.69\"/>\n",
       "</g>\n",
       "<!-- 4531912928 -->\n",
       "<g id=\"node5\" class=\"node\">\n",
       "<title>4531912928</title>\n",
       "<polygon fill=\"none\" stroke=\"black\" points=\"470.88,-54.5 470.88,-90.5 571.12,-90.5 571.12,-54.5 470.88,-54.5\"/>\n",
       "<text text-anchor=\"middle\" x=\"481.12\" y=\"-67.7\" font-family=\"Times,serif\" font-size=\"14.00\">f</text>\n",
       "<polyline fill=\"none\" stroke=\"black\" points=\"491.38,-55 491.38,-90.5\"/>\n",
       "<text text-anchor=\"middle\" x=\"531.25\" y=\"-67.7\" font-family=\"Times,serif\" font-size=\"14.00\">data 4.0000</text>\n",
       "</g>\n",
       "<!-- 4531912928&#45;&gt;4531926944* -->\n",
       "<g id=\"edge5\" class=\"edge\">\n",
       "<title>4531912928&#45;&gt;4531926944*</title>\n",
       "<path fill=\"none\" stroke=\"black\" d=\"M571.56,-84.19C581.24,-86.47 591.23,-88.83 600.38,-90.98\"/>\n",
       "<polygon fill=\"black\" stroke=\"black\" points=\"599.43,-94.35 609.97,-93.24 601.04,-87.54 599.43,-94.35\"/>\n",
       "</g>\n",
       "<!-- 4531912928+&#45;&gt;4531912928 -->\n",
       "<g id=\"edge2\" class=\"edge\">\n",
       "<title>4531912928+&#45;&gt;4531912928</title>\n",
       "<path fill=\"none\" stroke=\"black\" d=\"M431.77,-72.5C440.03,-72.5 449.51,-72.5 459.14,-72.5\"/>\n",
       "<polygon fill=\"black\" stroke=\"black\" points=\"458.92,-76 468.92,-72.5 458.92,-69 458.92,-76\"/>\n",
       "</g>\n",
       "<!-- 4530197216 -->\n",
       "<g id=\"node7\" class=\"node\">\n",
       "<title>4530197216</title>\n",
       "<polygon fill=\"none\" stroke=\"black\" points=\"0,-55.5 0,-91.5 107,-91.5 107,-55.5 0,-55.5\"/>\n",
       "<text text-anchor=\"middle\" x=\"11.38\" y=\"-68.7\" font-family=\"Times,serif\" font-size=\"14.00\">b</text>\n",
       "<polyline fill=\"none\" stroke=\"black\" points=\"22.75,-56 22.75,-91.5\"/>\n",
       "<text text-anchor=\"middle\" x=\"64.88\" y=\"-68.7\" font-family=\"Times,serif\" font-size=\"14.00\">data &#45;3.0000</text>\n",
       "</g>\n",
       "<!-- 4530197216&#45;&gt;4531923104* -->\n",
       "<g id=\"edge4\" class=\"edge\">\n",
       "<title>4530197216&#45;&gt;4531923104*</title>\n",
       "<path fill=\"none\" stroke=\"black\" d=\"M107.39,-60.57C116.15,-58.42 125.05,-56.25 133.26,-54.24\"/>\n",
       "<polygon fill=\"black\" stroke=\"black\" points=\"133.97,-57.67 142.85,-51.89 132.3,-50.87 133.97,-57.67\"/>\n",
       "</g>\n",
       "<!-- 4530202928 -->\n",
       "<g id=\"node8\" class=\"node\">\n",
       "<title>4530202928</title>\n",
       "<polygon fill=\"none\" stroke=\"black\" points=\"2.62,-0.5 2.62,-36.5 104.38,-36.5 104.38,-0.5 2.62,-0.5\"/>\n",
       "<text text-anchor=\"middle\" x=\"13.62\" y=\"-13.7\" font-family=\"Times,serif\" font-size=\"14.00\">a</text>\n",
       "<polyline fill=\"none\" stroke=\"black\" points=\"24.62,-1 24.62,-36.5\"/>\n",
       "<text text-anchor=\"middle\" x=\"64.5\" y=\"-13.7\" font-family=\"Times,serif\" font-size=\"14.00\">data 2.0000</text>\n",
       "</g>\n",
       "<!-- 4530202928&#45;&gt;4531923104* -->\n",
       "<g id=\"edge8\" class=\"edge\">\n",
       "<title>4530202928&#45;&gt;4531923104*</title>\n",
       "<path fill=\"none\" stroke=\"black\" d=\"M104.72,-30.34C114.16,-32.57 123.86,-34.86 132.78,-36.96\"/>\n",
       "<polygon fill=\"black\" stroke=\"black\" points=\"131.94,-40.36 142.48,-39.25 133.55,-33.54 131.94,-40.36\"/>\n",
       "</g>\n",
       "<!-- 4531926944 -->\n",
       "<g id=\"node9\" class=\"node\">\n",
       "<title>4531926944</title>\n",
       "<polygon fill=\"none\" stroke=\"black\" points=\"700.5,-81.5 700.5,-117.5 809,-117.5 809,-81.5 700.5,-81.5\"/>\n",
       "<text text-anchor=\"middle\" x=\"712.62\" y=\"-94.7\" font-family=\"Times,serif\" font-size=\"14.00\">L</text>\n",
       "<polyline fill=\"none\" stroke=\"black\" points=\"724.75,-82 724.75,-117.5\"/>\n",
       "<text text-anchor=\"middle\" x=\"766.88\" y=\"-94.7\" font-family=\"Times,serif\" font-size=\"14.00\">data &#45;8.0000</text>\n",
       "</g>\n",
       "<!-- 4531926944*&#45;&gt;4531926944 -->\n",
       "<g id=\"edge3\" class=\"edge\">\n",
       "<title>4531926944*&#45;&gt;4531926944</title>\n",
       "<path fill=\"none\" stroke=\"black\" d=\"M664.94,-99.5C672.16,-99.5 680.31,-99.5 688.68,-99.5\"/>\n",
       "<polygon fill=\"black\" stroke=\"black\" points=\"688.64,-103 698.64,-99.5 688.64,-96 688.64,-103\"/>\n",
       "</g>\n",
       "</g>\n",
       "</svg>\n"
      ],
      "text/plain": [
       "<graphviz.graphs.Digraph at 0x10e1fb170>"
      ]
     },
     "execution_count": 54,
     "metadata": {},
     "output_type": "execute_result"
    }
   ],
   "source": [
    "draw_dot(L)"
   ]
  }
 ],
 "metadata": {
  "kernelspec": {
   "display_name": ".venv",
   "language": "python",
   "name": "python3"
  },
  "language_info": {
   "codemirror_mode": {
    "name": "ipython",
    "version": 3
   },
   "file_extension": ".py",
   "mimetype": "text/x-python",
   "name": "python",
   "nbconvert_exporter": "python",
   "pygments_lexer": "ipython3",
   "version": "3.12.6"
  }
 },
 "nbformat": 4,
 "nbformat_minor": 2
}
